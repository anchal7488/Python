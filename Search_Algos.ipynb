{
  "nbformat": 4,
  "nbformat_minor": 0,
  "metadata": {
    "colab": {
      "name": "Search Algos.ipynb",
      "provenance": [],
      "authorship_tag": "ABX9TyMdmnRZL/glsy9pUf/ge2q6",
      "include_colab_link": true
    },
    "kernelspec": {
      "name": "python3",
      "display_name": "Python 3"
    },
    "language_info": {
      "name": "python"
    }
  },
  "cells": [
    {
      "cell_type": "markdown",
      "metadata": {
        "id": "view-in-github",
        "colab_type": "text"
      },
      "source": [
        "<a href=\"https://colab.research.google.com/github/anchal7488/Python/blob/main/Search_Algos.ipynb\" target=\"_parent\"><img src=\"https://colab.research.google.com/assets/colab-badge.svg\" alt=\"Open In Colab\"/></a>"
      ]
    },
    {
      "cell_type": "markdown",
      "metadata": {
        "id": "dVB0G7Nhop5m"
      },
      "source": [
        "[Tree used for traversal](https://www.google.com/url?sa=i&url=https%3A%2F%2Fen.wikipedia.org%2Fwiki%2FBinary_tree&psig=AOvVaw20gm8-4ZeiEHs6d0MFZ5Uc&ust=1625070827584000&source=images&cd=vfe&ved=0CAoQjRxqFwoTCIiT2N-ivfECFQAAAAAdAAAAABAD)"
      ]
    },
    {
      "cell_type": "code",
      "metadata": {
        "id": "2psISUYaGq1c"
      },
      "source": [
        "#performing DFS \n",
        "\n",
        "class Node:\n",
        "\tdef __init__(self, key):\n",
        "\t\tself.left = None\n",
        "\t\tself.right = None\n",
        "\t\tself.val = key\n",
        "\n",
        "def printDfs(root):\n",
        "\n",
        "\tif root:\n",
        "\n",
        "\t\t# print first element\n",
        "\t\tprint(root.val),\n",
        "\n",
        "\t\t# recur on left child\n",
        "\t\tprintDfs(root.left)\n",
        "\n",
        "\t\t# recur on right child\n",
        "\t\tprintDfs(root.right)\n",
        "\n",
        "\n",
        "# tree\n",
        "root = Node(2)\n",
        "root.left = Node(7)\n",
        "root.right = Node(5)\n",
        "root.left.left = Node(2)\n",
        "root.left.right = Node(6)\n",
        "root.left.right.left = Node(5)\n",
        "root.left.right.right = Node(11)\n",
        "root.right.right = Node(9)\n",
        "root.right.right.left = Node(4)\n",
        "print (\"Depth first Search results\")\n",
        "printDfs(root)\n"
      ],
      "execution_count": null,
      "outputs": []
    },
    {
      "cell_type": "markdown",
      "metadata": {
        "id": "oWp0VT_xnh_w"
      },
      "source": [
        ""
      ]
    },
    {
      "cell_type": "code",
      "metadata": {
        "id": "vXLKbjABmWlT"
      },
      "source": [
        "#performing BFS\n",
        "\n",
        "class Node:\n",
        "\n",
        "\t# function to create a new node\n",
        "\tdef __init__(self, key):\n",
        "\t\tself.data = key\n",
        "\t\tself.left = None\n",
        "\t\tself.right = None\n",
        "\n",
        "\n",
        "# implementing bfs\n",
        "def printBfs(root):\n",
        "\th = height(root)\n",
        "\tfor i in range(1, h+1):\n",
        "\t\tprintCurrentLevel(root, i)\n",
        "\n",
        "\n",
        "# Print nodes at a current level\n",
        "def printCurrentLevel(root , level):\n",
        "\tif root is None:\n",
        "\t\treturn\n",
        "\tif level == 1:\n",
        "\t\tprint(root.data,end=\" \")\n",
        "\telif level > 1 :\n",
        "\t\tprintCurrentLevel(root.left , level-1)\n",
        "\t\tprintCurrentLevel(root.right , level-1)\n",
        "\n",
        "\n",
        "#calculating height of the tree\n",
        "def height(node):\n",
        "\tif node is None:\n",
        "\t\treturn 0\n",
        "\telse :\n",
        "\t\t# Calculating the height of each subtree\n",
        "\t\tlheight = height(node.left)\n",
        "\t\trheight = height(node.right)\n",
        "\n",
        "\t\t#checking for max height\n",
        "\t\tif lheight > rheight :\n",
        "\t\t\treturn lheight+1\n",
        "\t\telse:\n",
        "\t\t\treturn rheight+1\n",
        "\n",
        "# tree\n",
        "root = Node(2)\n",
        "root.left = Node(7)\n",
        "root.right = Node(5)\n",
        "root.left.left = Node(2)\n",
        "root.left.right = Node(6)\n",
        "root.left.right.left = Node(5)\n",
        "root.left.right.right = Node(11)\n",
        "root.right.right = Node(9)\n",
        "root.right.right.left = Node(4)\n",
        "print(\"Breadth First Search (BFS) Results\")\n",
        "printBfs(root)\n",
        "\n",
        "\n"
      ],
      "execution_count": null,
      "outputs": []
    }
  ]
}